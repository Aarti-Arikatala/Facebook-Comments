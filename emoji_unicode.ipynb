{
 "cells": [
  {
   "cell_type": "code",
   "execution_count": 1,
   "metadata": {
    "colab": {
     "base_uri": "https://localhost:8080/"
    },
    "id": "yQb75SDrdCbD",
    "outputId": "653bd642-96c1-49b2-ca8a-515306ff3bac"
   },
   "outputs": [
    {
     "name": "stdout",
     "output_type": "stream",
     "text": [
      "Requirement already satisfied: emoji in /Users/aartiarikatala/opt/anaconda3/lib/python3.8/site-packages (1.5.0)\r\n"
     ]
    }
   ],
   "source": [
    "\n",
    "!pip install emoji"
   ]
  },
  {
   "cell_type": "code",
   "execution_count": null,
   "metadata": {},
   "outputs": [],
   "source": []
  },
  {
   "cell_type": "code",
   "execution_count": 7,
   "metadata": {
    "id": "XeNGGspTdJwo"
   },
   "outputs": [],
   "source": [
    "import numpy as np\n",
    "import pandas as pd\n",
    "import os\n",
    "import re\n",
    "import nltk\n",
    "import string\n",
    "import csv\n",
    "import emoji\n",
    "from nltk.corpus import stopwords "
   ]
  },
  {
   "cell_type": "code",
   "execution_count": 18,
   "metadata": {
    "colab": {
     "base_uri": "https://localhost:8080/",
     "height": 35
    },
    "id": "CGtskMjAdb1B",
    "outputId": "7a931053-8230-4239-eb3a-9504c2ee6c5f"
   },
   "outputs": [
    {
     "data": {
      "text/plain": [
       "'/Users/aartiarikatala/Documents/UIUC/RA/Facebook Comments'"
      ]
     },
     "execution_count": 18,
     "metadata": {},
     "output_type": "execute_result"
    }
   ],
   "source": [
    "os.chdir('/Users/aartiarikatala/Documents/UIUC/RA/Facebook Comments')\n",
    "os. getcwd()"
   ]
  },
  {
   "cell_type": "code",
   "execution_count": 34,
   "metadata": {
    "id": "jikU0rdndzfN"
   },
   "outputs": [],
   "source": [
    "df = pd.read_csv('all_counties.csv')\n",
    "df.head()\n",
    "j=[]\n",
    "stop_words = set(stopwords.words('english'))\n",
    "#pre-processing\n",
    "df = df.dropna(axis=0, subset=['body_text'])\n",
    "for i in df['body_text']:\n",
    "    #removing punctuation\n",
    "    i = re.sub(r'[^\\w\\s]','',i)\n",
    "    #lowercase\n",
    "    i=i.lower()\n",
    "    #tokenization\n",
    "    words = nltk.tokenize.word_tokenize(i)\n",
    "    #removing stop words\n",
    "    words_list = [w for w in words if not w in stop_words]\n",
    "    words_list = str(words_list)[1:-1]\n",
    "    words_list = words_list.replace('\"',\"\")\n",
    "\n",
    "    #removing all empty rows is body_text is empty\n"
   ]
  },
  {
   "cell_type": "code",
   "execution_count": 35,
   "metadata": {},
   "outputs": [],
   "source": [
    "for i in df['body_text']:\n",
    "    j.append(emoji.demojize(i))\n",
    "df.loc[:, 'body_text'] = j\n",
    "df.to_excel(\"Emoji_convert.xlsx\", encoding = 'utf-8')"
   ]
  },
  {
   "cell_type": "code",
   "execution_count": null,
   "metadata": {},
   "outputs": [],
   "source": []
  }
 ],
 "metadata": {
  "colab": {
   "collapsed_sections": [],
   "name": "emoji_unicode.ipynb",
   "provenance": []
  },
  "kernelspec": {
   "display_name": "Python 3",
   "language": "python",
   "name": "python3"
  },
  "language_info": {
   "codemirror_mode": {
    "name": "ipython",
    "version": 3
   },
   "file_extension": ".py",
   "mimetype": "text/x-python",
   "name": "python",
   "nbconvert_exporter": "python",
   "pygments_lexer": "ipython3",
   "version": "3.8.8"
  }
 },
 "nbformat": 4,
 "nbformat_minor": 1
}
